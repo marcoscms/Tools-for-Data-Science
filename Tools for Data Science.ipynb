{
  "metadata": {
    "language_info": {
      "codemirror_mode": {
        "name": "python",
        "version": 3
      },
      "file_extension": ".py",
      "mimetype": "text/x-python",
      "name": "python",
      "nbconvert_exporter": "python",
      "pygments_lexer": "ipython3",
      "version": "3.8"
    },
    "kernelspec": {
      "name": "python",
      "display_name": "Pyolite",
      "language": "python"
    }
  },
  "nbformat_minor": 4,
  "nbformat": 4,
  "cells": [
    {
      "cell_type": "markdown",
      "source": "# My Jupyter Notebook on IBM Watson Studio",
      "metadata": {}
    },
    {
      "cell_type": "markdown",
      "source": "**Marcos Almeida**  \nData Scientist",
      "metadata": {}
    },
    {
      "cell_type": "markdown",
      "source": "*I am interested in data science because I find it important to take data-driven decisions*",
      "metadata": {}
    },
    {
      "cell_type": "markdown",
      "source": "### The following code is a function that takes a number as input and return the half of it",
      "metadata": {}
    },
    {
      "cell_type": "code",
      "source": "def divided_by_two(x):\n    return x/2\n\ndivided_by_two(50)",
      "metadata": {
        "trusted": true
      },
      "execution_count": 1,
      "outputs": [
        {
          "execution_count": 1,
          "output_type": "execute_result",
          "data": {
            "text/plain": "25.0"
          },
          "metadata": {}
        }
      ]
    },
    {
      "cell_type": "markdown",
      "source": "Learning to code is important because:\n* it's the future\n* the volume of data is growing larger ~~annualy~~ day after day\n* future jobs will recquire programming skills\n\nYou can access this notebook through github: <https://github.com/>",
      "metadata": {}
    },
    {
      "cell_type": "code",
      "source": "",
      "metadata": {},
      "execution_count": null,
      "outputs": []
    }
  ]
}